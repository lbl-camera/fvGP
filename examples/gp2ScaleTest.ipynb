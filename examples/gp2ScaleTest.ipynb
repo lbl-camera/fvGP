{
 "cells": [
  {
   "cell_type": "markdown",
   "id": "9f3df77e",
   "metadata": {},
   "source": [
    "# gp2Scale \n",
    "gp2Scale is a special setting in fvgp that combines non-stationary, compactly-supported kernels, HPC distributed computing, and sparse linear algebra to allow scale-up of exact GPs to millions of data points. gp2Scale holds the world record in this category! Here we run a moderately-sized GP, just because we assume you might run this locally.\n",
    "\n",
    "I hope it is clear how cool it is what is happening here. If you have a dask client that points to a remote cluster with 500 GPUs, you will distribute the covariance matrix computation across those. The full matrix is sparse and will be fast to work with in downstream operations. The algorithm only makes use of naturally-occuring sparsity, so the result is exact in contrast to Vecchia or inducing-point methods."
   ]
  },
  {
   "cell_type": "code",
   "execution_count": null,
   "id": "baff189f",
   "metadata": {},
   "outputs": [],
   "source": [
    "##first install the newest version of fvgp\n",
    "#!pip install fvgp~=4.5.6\n",
    "#!pip install imate"
   ]
  },
  {
   "cell_type": "markdown",
   "id": "a7272b8d",
   "metadata": {},
   "source": [
    "## Setup"
   ]
  },
  {
   "cell_type": "code",
   "execution_count": null,
   "id": "bbbbe3d7",
   "metadata": {},
   "outputs": [],
   "source": [
    "import numpy as np\n",
    "import matplotlib.pyplot as plt\n",
    "from fvgp import GP\n",
    "from dask.distributed import Client\n",
    "import sys\n",
    "%load_ext autoreload\n",
    "%autoreload 2\n",
    "\n",
    "#further control plotting \n",
    "from loguru import logger\n",
    "logger.enable(\"fvgp\")\n",
    "\n",
    "\n",
    "client = Client() ##this is the client you can make locally like this or \n",
    "#your HPC team can provide a script to get it. We included an example to get gp2Scale going\n",
    "#on Perlmutter\n",
    "\n",
    "\n",
    "#It's good practice to make sure to wait for all the workers to be ready\n",
    "client.wait_for_workers(4)"
   ]
  },
  {
   "cell_type": "markdown",
   "id": "02fcf597",
   "metadata": {},
   "source": [
    "## Preparing the data and some other inputs"
   ]
  },
  {
   "cell_type": "code",
   "execution_count": null,
   "id": "b1a6831b",
   "metadata": {},
   "outputs": [],
   "source": [
    "def f1(x):\n",
    "    return ((np.sin(5. * x) + np.cos(10. * x) + (2.* (x-0.4)**2) * np.cos(100. * x)))\n",
    "\n",
    "input_dim = 1\n",
    "N = 2000\n",
    "x_data = np.random.rand(N,input_dim)\n",
    "y_data = f1(x_data).reshape(len(x_data))\n",
    "hps_n = 2\n",
    "\n",
    "hps_bounds = np.array([[0.1,1.],      ##signal var of Wendland kernel\n",
    "                       [0.001,0.04]])  ##length scale for Wendland kernel"
   ]
  },
  {
   "cell_type": "code",
   "execution_count": null,
   "id": "fe1f017a",
   "metadata": {},
   "outputs": [],
   "source": [
    "from fvgp.gp_kernels import wendland_anisotropic_gp2Scale_cpu\n",
    "def kernel(x1,x2,hps):\n",
    "    return wendland_anisotropic_gp2Scale_cpu(x1,x2,hps)\n",
    "\n",
    "\n",
    "init_hps = np.array([0.73118673, 0.13813191])\n",
    "my_gp2S = GP(x_data,y_data, gp_kernel_function=kernel, \n",
    "             init_hyperparameters = init_hps, #compute_device = 'gpu', #you can use gpus here\n",
    "             gp2Scale = True, gp2Scale_batch_size= 1000, \n",
    "             gp2Scale_dask_client = client, gp2Scale_linalg_mode= \"Chol\",)\n",
    "\n",
    "my_gp2S.train(hyperparameter_bounds = hps_bounds, max_iter = 2)\n",
    "\n"
   ]
  },
  {
   "cell_type": "code",
   "execution_count": null,
   "id": "3f3babc2-337e-4c3b-af36-cfea8f4acbd9",
   "metadata": {},
   "outputs": [],
   "source": [
    "from fvgp.gpMCMC import ProposalDistribution\n",
    "init_s = (np.diag(hps_bounds[:,1]-hps_bounds[:,0])/100.)**2\n",
    "\n",
    "\n",
    "def obj_func(hps,args):\n",
    "    return my_gp2S.log_likelihood(hyperparameters=hps[0:2])\n",
    "\n",
    "from fvgp import gpMCMC\n",
    "def proposal_distribution(x0, hps, obj):\n",
    "    cov = obj.prop_args[\"prop_Sigma\"]\n",
    "    proposal_hps = np.zeros((len(x0)))\n",
    "    proposal_hps = np.random.multivariate_normal(\n",
    "        mean = x0, cov = cov, size = 1).reshape(len(x0))\n",
    "    return proposal_hps\n",
    "\n",
    "def in_bounds(v,bounds):\n",
    "    if any(v<bounds[:,0]) or any(v>bounds[:,1]): return False\n",
    "    return True\n",
    "def prior_function(theta,args):\n",
    "    bounds = args[\"bounds\"]\n",
    "    if in_bounds(theta, bounds): \n",
    "        return 0. + np.sum(np.log(theta)/2.)\n",
    "    else: \n",
    "        return -np.inf\n",
    "pd = ProposalDistribution([0,1] ,proposal_dist=proposal_distribution,\n",
    "                        init_prop_Sigma = init_s, adapt_callable=\"normal\")\n",
    "\n",
    "my_mcmc = gpMCMC(obj_func, prior_function, [pd],\n",
    "                args={\"bounds\":hps_bounds})\n",
    "\n",
    "hps = np.random.uniform(\n",
    "                        low = hps_bounds[:,0], \n",
    "                        high = hps_bounds[:,1], \n",
    "                        size = len(hps_bounds))\n",
    "mcmc_result = my_mcmc.run_mcmc(x0=hps, n_updates=110, break_condition=\"default\", info = True)\n",
    "my_gp2S.set_hyperparameters(mcmc_result[\"x\"][-1])"
   ]
  },
  {
   "cell_type": "markdown",
   "id": "e5e23dd4",
   "metadata": {},
   "source": [
    "## Posterior evaluation"
   ]
  },
  {
   "cell_type": "code",
   "execution_count": null,
   "id": "297d9acf",
   "metadata": {},
   "outputs": [],
   "source": [
    "x_pred = np.linspace(0,1,1000) ##for big GPs, this is usually not a good idea, but in 1d, we can still do it\n",
    "                               ##It's better to do predictions only for a handful of points at a time.\n",
    "\n",
    "mean1 = my_gp2S.posterior_mean(x_pred.reshape(1000,1))[\"f(x)\"]\n",
    "var1 =  my_gp2S.posterior_covariance(x_pred.reshape(1000,1), variance_only=False)[\"v(x)\"]\n",
    "\n",
    "\n",
    "plt.figure(figsize = (16,10))\n",
    "plt.plot(x_pred,mean1, label = \"posterior mean\", linewidth = 4)\n",
    "plt.plot(x_pred,f1(x_pred), label = \"latent function\", linewidth = 4)\n",
    "plt.fill_between(x_pred, mean1 - 3. * np.sqrt(var1), mean1 + 3. * np.sqrt(var1), alpha = 0.5, color = \"grey\", label = \"var\")\n",
    "plt.scatter(x_data,y_data, color = 'black')"
   ]
  },
  {
   "cell_type": "code",
   "execution_count": null,
   "id": "d34ba904-b9cd-4758-8cb8-164570cddd3c",
   "metadata": {},
   "outputs": [],
   "source": []
  },
  {
   "cell_type": "code",
   "execution_count": null,
   "id": "39bb8119-036f-41fd-8b88-32edfa50b64f",
   "metadata": {},
   "outputs": [],
   "source": []
  }
 ],
 "metadata": {
  "kernelspec": {
   "display_name": "Python 3 (ipykernel)",
   "language": "python",
   "name": "python3"
  },
  "language_info": {
   "codemirror_mode": {
    "name": "ipython",
    "version": 3
   },
   "file_extension": ".py",
   "mimetype": "text/x-python",
   "name": "python",
   "nbconvert_exporter": "python",
   "pygments_lexer": "ipython3",
   "version": "3.10.12"
  }
 },
 "nbformat": 4,
 "nbformat_minor": 5
}
