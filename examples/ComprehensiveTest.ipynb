{
 "cells": [
  {
   "cell_type": "markdown",
   "id": "798e6ef7",
   "metadata": {},
   "source": [
    "# fvGP comprehensive test"
   ]
  },
  {
   "cell_type": "markdown",
   "id": "7d1fc374",
   "metadata": {},
   "source": [
    "## (0) Setup"
   ]
  },
  {
   "cell_type": "code",
   "execution_count": 2,
   "id": "f84c291f",
   "metadata": {},
   "outputs": [],
   "source": [
    "import numpy as np\n",
    "import matplotlib.pyplot as plt\n",
    "from fvgp.gp import GP\n",
    "%load_ext autoreload\n",
    "%autoreload 2"
   ]
  },
  {
   "cell_type": "code",
   "execution_count": null,
   "id": "124ffd7f",
   "metadata": {},
   "outputs": [],
   "source": [
    "x = np.linspace(0,600,1000)\n",
    "def f1(x):\n",
    "    return np.sin(5. * x) + np.cos(10. * x) + (2.* (x-0.4)**2) * np.cos(100. * x)\n",
    "\n",
    "#x_data = np.load(\"x_data.npy\") \n",
    "x_data = np.random.rand(100)\n",
    "#y_data = np.load(\"y_data.npy\") \n",
    "y_data = f1(x_data) + (np.random.rand(len(x_data))-0.5) * 0.5\n",
    "\n",
    "\n",
    "\n",
    "plt.figure(figsize = (15,5))\n",
    "\n",
    "plt.scatter(x_data,y_data, s = 20)"
   ]
  },
  {
   "cell_type": "code",
   "execution_count": null,
   "id": "20aa5c90",
   "metadata": {},
   "outputs": [],
   "source": [
    "def s(x, my_slope, my_pow, my_intercept):\n",
    "    o = np.exp(my_slope * (x-my_pow)/600.) + my_intercept\n",
    "    \n",
    "    return np.zeros((len(x),1)) + 1000.0\n",
    "\n",
    "\n",
    "x = np.linspace(0,600,1000)\n",
    "plt.plot(x,s(x,6.56645290e+00, -2.41247972e+02,1.81827292e+00))\n",
    "plt.show()\n",
    "\n",
    "\n",
    "def my_noise(x,hps,obj):\n",
    "    my_slope = hps[2]\n",
    "    my_pow = hps[3]\n",
    "    my_intercept = hps[4]\n",
    "    my_s = s(x,my_slope,my_pow,my_intercept)\n",
    "    noise = np.diag(my_s[:,0])\n",
    "    return noise\n",
    "\n",
    "#stationary\n",
    "def skernel(x1,x2,hps,obj):\n",
    "    d = obj._get_distance_matrix(x1,x2)\n",
    "    return hps[0] * obj.matern_kernel_diff1(d,hps[1])\n",
    "\n",
    "\n",
    "#def meanf(x, hps, obj):\n",
    "#    #print(np.sin(hps[3] * x))\n",
    "#    return np.sin(hps[3] * x)[:,0]\n",
    "#plt.figure(figsize = (15,5))\n",
    "#plt.plot(x,meanf(x, np.array([1.,1.,5.0]), None), color = 'orange', label = 'task1')"
   ]
  },
  {
   "cell_type": "code",
   "execution_count": null,
   "id": "8cd4cfed",
   "metadata": {
    "scrolled": true
   },
   "outputs": [],
   "source": [
    "my_gp1 = GP(1, x_data,y_data,\n",
    "            init_hyperparameters = np.ones((2)),\n",
    "            #noise_variances=np.ones(y_data.shape) * 10., \n",
    "            compute_device='cpu', \n",
    "            gp_kernel_function=skernel, \n",
    "            gp_kernel_function_grad=None, \n",
    "            #gp_mean_function=meanf, \n",
    "            gp_mean_function_grad=None,\n",
    "            #gp_noise_function=my_noise,\n",
    "            normalize_y=False,\n",
    "            sparse_mode=False,\n",
    "            gp2Scale = False,\n",
    "            store_inv=False, \n",
    "            ram_economy=False, \n",
    "            args=None,\n",
    "            )\n",
    "\n",
    "\n",
    "print(\"Data Plot:\")\n",
    "plt.scatter(my_gp1.x_data,my_gp1.y_data, s = 20)\n",
    "plt.show()\n",
    "\n",
    "\n",
    "hps_bounds = np.array([[0.01,10.],\n",
    "                       [0.01,10.],\n",
    "                       #[1.0,10.], #slope\n",
    "                       #[-300.,300.], #pow\n",
    "                       #[0.1,100.]\n",
    "                      ]) #intercept\n",
    "\n",
    "#my_gp1.update_gp_data(x_data, y_data)\n",
    "#print(\"Standard Training\")\n",
    "my_gp1.train(hps_bounds)\n",
    "\n",
    "\n",
    "#print(\"Global Training\")\n",
    "#my_gp1.train(hps_bounds, method='global')\n",
    "#print(\"hps: \", my_gp1.get_hyperparameters())\n",
    "#print(\"Local Training\")\n",
    "#my_gp1.train(hps_bounds, method='local')\n",
    "#print(my_gp1.get_hyperparameters())\n",
    "#print(\"MCMC Training\")\n",
    "#my_gp1.train(hps_bounds, method='mcmc', max_iter=1000)\n",
    "#print(my_gp1.get_hyperparameters())\n",
    "#my_gp1.train(hps_bounds, method='hgdl')\n"
   ]
  },
  {
   "cell_type": "code",
   "execution_count": null,
   "id": "d3d231b1",
   "metadata": {},
   "outputs": [],
   "source": [
    "#my_gp1.test_log_likelihood_gradient(np.array([100.,100.]))"
   ]
  },
  {
   "cell_type": "code",
   "execution_count": null,
   "id": "4dbeb428",
   "metadata": {
    "scrolled": false
   },
   "outputs": [],
   "source": [
    "#my_gp1.train(hps_bounds, method='hgdl', max_iter = 5)"
   ]
  },
  {
   "cell_type": "code",
   "execution_count": null,
   "id": "68482cff",
   "metadata": {},
   "outputs": [],
   "source": [
    "#opt_obj = my_gp1.train_async(hps_bounds)"
   ]
  },
  {
   "cell_type": "code",
   "execution_count": null,
   "id": "7749c658",
   "metadata": {},
   "outputs": [],
   "source": [
    "#my_gp1.update_hyperparameters(opt_obj)\n",
    "#for entry in opt_obj.optima.list:\n",
    "#    print(entry)\n",
    "#    print(\"\")\n",
    "\n",
    "#my_gp1.entropy(my_gp1.prior_covariance)"
   ]
  },
  {
   "cell_type": "code",
   "execution_count": null,
   "id": "a4055d5a",
   "metadata": {},
   "outputs": [],
   "source": [
    "#my_gp1.hyperparameters"
   ]
  },
  {
   "cell_type": "code",
   "execution_count": null,
   "id": "fc9e766e",
   "metadata": {},
   "outputs": [],
   "source": [
    "#my_gp1.V"
   ]
  },
  {
   "cell_type": "code",
   "execution_count": null,
   "id": "0922be9e",
   "metadata": {
    "scrolled": false
   },
   "outputs": [],
   "source": [
    "#let's make a prediction\n",
    "x_pred = np.linspace(0,1,1000)\n",
    "\n",
    "mean1 = my_gp1.posterior_mean(x_pred.reshape(-1,1))[\"f(x)\"]\n",
    "var1 =  my_gp1.posterior_covariance(x_pred.reshape(-1,1), variance_only=False, add_noise=True)[\"v(x)\"]\n",
    "plt.figure(figsize = (16,10))\n",
    "plt.plot(x_pred,mean1, label = \"posterior mean\", linewidth = 4)\n",
    "#plt.plot(x_pred,f1(x), label = \"latent function\", linewidth = 4)\n",
    "plt.fill_between(x_pred, mean1 - 3. * np.sqrt(var1), mean1 + 3. * np.sqrt(var1), alpha = 0.5, color = \"grey\", label = \"var\")\n",
    "#plt.plot(x, (f(x)-mean1)**2)\n",
    "plt.scatter(x_data,y_data, color = 'black')\n",
    "#plt.legend(fontsize = 20)\n",
    "\n",
    "#print(\"error: \", np.sum(f1(x)-mean1)**2 / len(mean1))"
   ]
  },
  {
   "cell_type": "code",
   "execution_count": null,
   "id": "62dd8837",
   "metadata": {
    "scrolled": true
   },
   "outputs": [],
   "source": [
    "x_pred = np.linspace(0,1,1000)\n",
    "\n",
    "sig1 = np.zeros((len(x_pred)))\n",
    "sig2 = np.zeros((len(x_pred)))\n",
    "for i in range(len(x_pred)):\n",
    "    print(x_pred[i:i+1].reshape(-1,1))\n",
    "    sig1[i] = my_gp1._ig(x_pred[i:i+1].reshape(-1,1))\n",
    "    sig2[i] = my_gp1.shannon_information_gain(x_pred[i:i+1].reshape(-1,1))[\"sig\"]\n",
    "    print(\"\")\n",
    "sig3 =  my_gp1.shannon_information_gain_vec(x_pred.reshape(-1,1))[\"sig(x)\"]"
   ]
  },
  {
   "cell_type": "code",
   "execution_count": null,
   "id": "a0b4708a",
   "metadata": {
    "scrolled": false
   },
   "outputs": [],
   "source": [
    "#print(sig3)\n",
    "plt.figure(figsize = (16,10))\n",
    "plt.plot(x_pred,sig1, label = \"ig\", linewidth = 4)\n",
    "plt.plot(x_pred,sig3, label = \"shannon\", linewidth = 4)\n",
    "plt.scatter(x_data,y_data, color = 'black')\n",
    "plt.legend()"
   ]
  },
  {
   "cell_type": "code",
   "execution_count": null,
   "id": "676bc98f",
   "metadata": {
    "scrolled": true
   },
   "outputs": [],
   "source": [
    "res = np.zeros((1000,2))\n",
    "for i in range(1000):\n",
    "    S =  my_gp1.posterior_covariance(x_pred.reshape(-1,1))[\"S\"]\n",
    "    entropy1 = my_gp1.entropy(S)\n",
    "    print(\"current entropy before new point: \", )\n",
    "    new_x = np.random.rand()\n",
    "    sig = my_gp1.shannon_information_gain(np.array([[new_x]]))\n",
    "    print(\"projected entropy decline: \", sig)\n",
    "    my_gp1.update_gp_data(np.row_stack([my_gp1.x_data,np.array([[new_x]])]),np.append(my_gp1.y_data,f1(new_x)))\n",
    "    S =  my_gp1.posterior_covariance(x_pred.reshape(-1,1))[\"S\"]\n",
    "    entropy2 = my_gp1.entropy(S)\n",
    "    print(\"entropy after: \", entropy2)\n",
    "    print(\"entropy difference vs sig: \", entropy2 - entropy1, sig[\"sig\"])\n",
    "    res[i] = np.array([entropy2 - entropy1, sig[\"sig\"]])\n",
    "    print(\"\")"
   ]
  },
  {
   "cell_type": "code",
   "execution_count": null,
   "id": "51170e0e",
   "metadata": {},
   "outputs": [],
   "source": [
    "print(len(my_gp1.x_data))"
   ]
  },
  {
   "cell_type": "code",
   "execution_count": null,
   "id": "9d1bc59e",
   "metadata": {},
   "outputs": [],
   "source": [
    "x_pred = np.linspace(0,1,1000)\n",
    "\n",
    "mean1 = my_gp1.posterior_mean(x_pred.reshape(-1,1))[\"f(x)\"]\n",
    "var1 =  my_gp1.posterior_covariance(x_pred.reshape(-1,1), variance_only=False, add_noise=True)[\"v(x)\"]\n",
    "plt.figure(figsize = (16,10))\n",
    "plt.plot(x_pred,mean1, label = \"posterior mean\", linewidth = 4)\n",
    "#plt.plot(x_pred,f1(x), label = \"latent function\", linewidth = 4)\n",
    "plt.fill_between(x_pred, mean1 - 3. * np.sqrt(var1), mean1 + 3. * np.sqrt(var1), alpha = 0.5, color = \"grey\", label = \"var\")\n",
    "#plt.plot(x, (f(x)-mean1)**2)\n",
    "plt.scatter(my_gp1.x_data,my_gp1.y_data, color = 'black')"
   ]
  },
  {
   "cell_type": "code",
   "execution_count": null,
   "id": "9354b6ff",
   "metadata": {},
   "outputs": [],
   "source": [
    "plt.plot(res[:,0])\n",
    "plt.plot(res[:,1])"
   ]
  },
  {
   "cell_type": "code",
   "execution_count": null,
   "id": "7da26c19",
   "metadata": {},
   "outputs": [],
   "source": [
    "my_gp1.stop_training(opt_obj)\n",
    "my_gp1.kill_training(opt_obj)"
   ]
  },
  {
   "cell_type": "code",
   "execution_count": null,
   "id": "fbb32975",
   "metadata": {},
   "outputs": [],
   "source": []
  },
  {
   "cell_type": "code",
   "execution_count": null,
   "id": "46769900",
   "metadata": {
    "scrolled": true
   },
   "outputs": [],
   "source": [
    "input_dim = 1\n",
    "N = 10000\n",
    "x_data = np.random.rand(N,input_dim)\n",
    "y_data = f1(x_data)\n",
    "hps_n = 2\n",
    "\n",
    "hps_bounds = np.array([[0.1,10.],    ##signal var of stat kernel\n",
    "                        [0.001,0.02]     ##length scale for stat kernel\n",
    "                                ])\n",
    "\n",
    "init_hps = np.random.uniform(size = len(hps_bounds), low = hps_bounds[:,0], high = hps_bounds[:,1])\n",
    "my_gp2S = GP(1, x_data,y_data,init_hps,  \n",
    "            gp2Scale = True, gp2Scale_batch_size= 1000\n",
    "            )\n",
    "\n",
    "\n",
    "\n",
    "my_gp2S.train(hps_bounds, max_iter = 20, init_hyperparameters = init_hps)\n",
    "       "
   ]
  },
  {
   "cell_type": "code",
   "execution_count": null,
   "id": "ddb415dd",
   "metadata": {},
   "outputs": [],
   "source": [
    "print(my_gp2S.V)\n",
    "\n",
    "\n",
    "x_pred = np.linspace(0,1,1000)\n",
    "\n",
    "mean1 = my_gp2S.posterior_mean(x_pred.reshape(-1,1))[\"f(x)\"]\n",
    "var1 =  my_gp2S.posterior_covariance(x_pred.reshape(-1,1), variance_only=False)[\"v(x)\"]\n",
    "\n",
    "\n",
    "plt.figure(figsize = (16,10))\n",
    "plt.plot(x_pred,mean1, label = \"posterior mean\", linewidth = 4)\n",
    "plt.plot(x_pred,f1(x_pred), label = \"latent function\", linewidth = 4)\n",
    "plt.fill_between(x_pred, mean1 - 3. * np.sqrt(var1), mean1 + 3. * np.sqrt(var1), alpha = 0.5, color = \"grey\", label = \"var\")\n",
    "plt.scatter(x_data,y_data, color = 'black')\n"
   ]
  },
  {
   "cell_type": "markdown",
   "id": "d28d573c",
   "metadata": {},
   "source": [
    "## Multi Task"
   ]
  },
  {
   "cell_type": "code",
   "execution_count": null,
   "id": "9ce2ffbf",
   "metadata": {
    "scrolled": false
   },
   "outputs": [],
   "source": [
    "from fvgp.fvgp import fvGP\n",
    "\n",
    "x = np.linspace(0,1,1000)\n",
    "def f1(x):\n",
    "    return np.sin(5. * x) + np.cos(10. * x) + (2.* (x-0.4)**2) * np.cos(100. * x)\n",
    "\n",
    "def f2(x):\n",
    "    return np.sin(5. * x) + np.cos(2. * x) + (2.* (x-0.4)**2) * np.cos(100. * x)\n",
    "\n",
    "\n",
    "def mkernel(x1,x2,hps,obj):\n",
    "    d = obj._get_distance_matrix(x1,x2)\n",
    "    return hps[0] * obj.matern_kernel_diff1(d,hps[1])\n",
    "\n",
    "\n",
    "x_data = np.random.rand(100)\n",
    "y_data = np.empty((len(x_data),2))\n",
    "y_data[:,0] = f1(x_data) + (np.random.rand(len(x_data))-0.5) * 0.5\n",
    "y_data[:,1] = f2(x_data) + (np.random.rand(len(x_data))-0.5) * 0.5\n",
    "plt.figure(figsize = (15,5))\n",
    "plt.plot(x,f1(x), color = 'orange', label = 'task1')\n",
    "plt.plot(x,f2(x), color = 'green',  label = 'task2')\n",
    "plt.legend()\n",
    "plt.scatter(x_data,y_data[:,0], s = 20)\n",
    "plt.scatter(x_data,y_data[:,1], s = 20)\n",
    "\n",
    "my_gp2 = fvGP(1, 1, 2, x_data,y_data,np.ones((2)),\n",
    "            noise_variances=None, \n",
    "            compute_device='cpu', \n",
    "            gp_kernel_function=mkernel, \n",
    "            gp_kernel_function_grad=None, \n",
    "            #gp_mean_function=meanf, \n",
    "            gp_mean_function_grad=None,\n",
    "            gp_noise_function=None,\n",
    "            normalize_y=False,\n",
    "            sparse_mode=False,\n",
    "            store_inv=True, \n",
    "            ram_economy=False, \n",
    "            args=None,\n",
    "            )\n",
    "\n",
    "\n",
    "print(\"Data Plot:\")\n",
    "\n",
    "plt.scatter(x_data,y_data[:,0], s = 20)\n",
    "plt.show()\n",
    "x_pred = np.linspace(0,1,1000)\n",
    "\n",
    "\n",
    "hps_bounds = np.array([[0.001,10.],[0.001,10.]])\n",
    "\n",
    "#my_gp1.update_gp_data(x_data, y_data)\n",
    "print(\"Global Training\")\n",
    "my_gp2.train(hps_bounds, method='global')\n",
    "#print(\"hps: \", my_gp1.get_hyperparameters())\n",
    "#print(\"Local Training\")\n",
    "#my_gp1.train(hps_bounds, method='local')\n",
    "#print(my_gp1.get_hyperparameters())\n",
    "#print(\"MCMC Training\")\n",
    "#my_gp1.train(hps_bounds, method='mcmc', max_iter=1000)\n",
    "#print(my_gp1.get_hyperparameters())"
   ]
  },
  {
   "cell_type": "code",
   "execution_count": null,
   "id": "79fc06e2",
   "metadata": {},
   "outputs": [],
   "source": [
    "my_gp2.input_space_dim\n"
   ]
  },
  {
   "cell_type": "code",
   "execution_count": null,
   "id": "0a6e52ac",
   "metadata": {},
   "outputs": [],
   "source": [
    "#let's make a prediction\n",
    "res = my_gp2.posterior_mean(x_pred.reshape(-1,1), x_out=np.array([[0],[1]]), hyperparameters=np.array([1,1,1,1]))\n",
    "mean2 = res[\"f(x)\"][0:1000]\n",
    "var2 =  my_gp2.posterior_covariance(x_pred.reshape(-1,1), x_out=np.array([[0],[1]]))[\"v(x)\"][0:1000]\n",
    "\n",
    "plt.figure(figsize = (16,10))\n",
    "plt.plot(x,mean2, label = \"posterior mean\", linewidth = 4)\n",
    "plt.plot(x,f1(x), label = \"latent function\", linewidth = 4)\n",
    "plt.fill_between(x, mean2 - 3. * np.sqrt(var2), mean2 + 3. * np.sqrt(var2), alpha = 0.5, color = \"grey\", label = \"var\")\n",
    "#plt.plot(x, (f(x)-mean1)**2)\n",
    "plt.scatter(x_data,y_data[:,0], color = 'black')\n",
    "#plt.legend(fontsize = 20)\n",
    "plt.xticks([])\n",
    "plt.yticks([])\n",
    "print(\"error: \", np.sum(f1(x)-mean2)**2 / len(mean2))"
   ]
  },
  {
   "cell_type": "markdown",
   "id": "86098f8e",
   "metadata": {},
   "source": [
    "# Performance Tests"
   ]
  },
  {
   "cell_type": "code",
   "execution_count": null,
   "id": "38ee4ed5",
   "metadata": {},
   "outputs": [],
   "source": []
  },
  {
   "cell_type": "code",
   "execution_count": 3,
   "id": "55bb5741",
   "metadata": {},
   "outputs": [],
   "source": [
    "N = 100\n",
    "input_dim = 5\n",
    "from fvgp.fvgp import fvGP\n",
    "\n",
    "\n",
    "x_data = np.random.rand(N, input_dim)\n",
    "y_data = np.sin(np.linalg.norm(x_data, axis=1))\n",
    "x_pred = np.random.rand(10, input_dim)\n",
    "\n",
    "\n",
    "def test_train_hgdl():\n",
    "        my_gp2 = GP(input_dim, x_data,y_data,np.array([1, 1, 1, 1, 1, 1]),noise_variances=np.zeros(y_data.shape) + 0.01,\n",
    "            compute_device=\"cpu\", normalize_y = True, store_inv = True, ram_economy = True)\n",
    "\n",
    "\n",
    "        my_gp2.train(np.array([[0.01,10],[0.01,10],[0.01,10],[0.01,10],[0.01,10],[0.01,10]]),\n",
    "                method = \"hgdl\", tolerance = 0.001, max_iter = 3)\n",
    "\n",
    "\n",
    "def test_train_hgdl_async():\n",
    "        my_gp2 = GP(input_dim, x_data,y_data,np.array([1, 1, 1, 1, 1, 1]),noise_variances=np.zeros(y_data.shape) + 0.01,\n",
    "            compute_device=\"cpu\", normalize_y = True, store_inv = True, ram_economy = True)\n",
    "\n",
    "        opt_obj = my_gp2.train_async(np.array([[0.01,10],[0.01,10],[0.01,10],[0.01,10],[0.01,10],[0.01,10]]),\n",
    "                max_iter = 5000)\n",
    "\n",
    "        my_gp2.update_hyperparameters(opt_obj)\n",
    "        my_gp2.kill_training(opt_obj)"
   ]
  },
  {
   "cell_type": "code",
   "execution_count": 4,
   "id": "49a5a7ef",
   "metadata": {},
   "outputs": [
    {
     "name": "stdout",
     "output_type": "stream",
     "text": [
      "here\n"
     ]
    },
    {
     "name": "stderr",
     "output_type": "stream",
     "text": [
      "/home/marcus/VirtualEnvironments/fvgp_dev/lib/python3.10/site-packages/scipy/optimize/_minimize.py:565: RuntimeWarning: Method L-BFGS-B does not use Hessian information (hess).\n",
      "  warn('Method %s does not use Hessian information (hess).' % method,\n",
      "/home/marcus/VirtualEnvironments/fvgp_dev/lib/python3.10/site-packages/scipy/optimize/_minimize.py:565: RuntimeWarning: Method L-BFGS-B does not use Hessian information (hess).\n",
      "  warn('Method %s does not use Hessian information (hess).' % method,\n",
      "/home/marcus/VirtualEnvironments/fvgp_dev/lib/python3.10/site-packages/scipy/optimize/_minimize.py:565: RuntimeWarning: Method L-BFGS-B does not use Hessian information (hess).\n",
      "  warn('Method %s does not use Hessian information (hess).' % method,\n"
     ]
    }
   ],
   "source": [
    "test_train_hgdl()"
   ]
  },
  {
   "cell_type": "code",
   "execution_count": null,
   "id": "21e4e804",
   "metadata": {},
   "outputs": [],
   "source": [
    "test_train_hgdl_async()"
   ]
  },
  {
   "cell_type": "code",
   "execution_count": null,
   "id": "7b39e69d",
   "metadata": {},
   "outputs": [],
   "source": []
  }
 ],
 "metadata": {
  "kernelspec": {
   "display_name": "fvgp_dev",
   "language": "python",
   "name": "fvgp_dev"
  },
  "language_info": {
   "codemirror_mode": {
    "name": "ipython",
    "version": 3
   },
   "file_extension": ".py",
   "mimetype": "text/x-python",
   "name": "python",
   "nbconvert_exporter": "python",
   "pygments_lexer": "ipython3",
   "version": "3.10.12"
  }
 },
 "nbformat": 4,
 "nbformat_minor": 5
}
