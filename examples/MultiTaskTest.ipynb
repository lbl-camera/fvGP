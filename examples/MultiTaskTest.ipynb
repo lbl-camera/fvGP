{
 "cells": [
  {
   "cell_type": "markdown",
   "id": "f7e13ed9",
   "metadata": {},
   "source": [
    "# Multi-Task Test"
   ]
  },
  {
   "cell_type": "markdown",
   "id": "6a49d7d1",
   "metadata": {},
   "source": [
    "## Setup"
   ]
  },
  {
   "cell_type": "code",
   "execution_count": null,
   "id": "ac77ab8f",
   "metadata": {},
   "outputs": [],
   "source": [
    "import numpy as np\n",
    "import matplotlib.pyplot as plt\n",
    "from fvgp import GP\n",
    "import plotly.graph_objects as go\n",
    "from itertools import product\n",
    "\n",
    "%load_ext autoreload\n",
    "%autoreload 2"
   ]
  },
  {
   "cell_type": "markdown",
   "id": "70c7a6f7",
   "metadata": {},
   "source": [
    "## Data"
   ]
  },
  {
   "cell_type": "code",
   "execution_count": null,
   "id": "2133fde3",
   "metadata": {},
   "outputs": [],
   "source": [
    "data = np.load(\"./data/sim_variable_mod.npy\")\n",
    "sparsification = 16\n",
    "\n",
    "x_data3 = data[:,5:][::sparsification]\n",
    "y_data3 = data[:,0:3][::sparsification]\n",
    "\n",
    "#it is good practice to check the format of the data\n",
    "print(x_data3.shape)\n",
    "print(y_data3.shape)"
   ]
  },
  {
   "cell_type": "code",
   "execution_count": null,
   "id": "43205bfa",
   "metadata": {},
   "outputs": [],
   "source": [
    "x = np.linspace(30,100,100)\n",
    "y = np.linspace(40,130,100)\n",
    "x_pred3D = np.asarray(list(product(x, y)))\n",
    "x_pred3D = np.column_stack([x_pred3D, np.zeros((len(x_pred3D),1)) + 300.])"
   ]
  },
  {
   "cell_type": "markdown",
   "id": "21b956f9",
   "metadata": {},
   "source": [
    "## Plotting"
   ]
  },
  {
   "cell_type": "code",
   "execution_count": null,
   "id": "15e0c83a",
   "metadata": {},
   "outputs": [],
   "source": [
    "def scatter(x,y,z,size=3, color = 1):\n",
    "    #if not color: color = z\n",
    "    fig = go.Figure()\n",
    "    fig.add_trace(go.Scatter3d(x=x, y=y, z=z,mode='markers',marker=dict(color=color, size = size)))\n",
    "    \n",
    "    \n",
    "    fig.update_layout(autosize=False,\n",
    "                  width=800, height=800,\n",
    "                  font=dict(size=18,),\n",
    "                  margin=dict(l=0, r=0, b=0, t=0))\n",
    "    fig.show()"
   ]
  },
  {
   "cell_type": "code",
   "execution_count": null,
   "id": "42c94297",
   "metadata": {
    "scrolled": false
   },
   "outputs": [],
   "source": [
    "scatter(x_data3[:,0],x_data3[:,1],x_data3[:,2], size = 5, color = y_data3[:,0])\n",
    "scatter(x_data3[:,0],x_data3[:,1],x_data3[:,2], size = 5, color = y_data3[:,1])\n",
    "scatter(x_data3[:,0],x_data3[:,1],x_data3[:,2], size = 5, color = y_data3[:,2])"
   ]
  },
  {
   "cell_type": "markdown",
   "id": "650f1268",
   "metadata": {},
   "source": [
    "## A simple kernel definition\n",
    "It is vital in the multi-task case to think hard about kernel design. The kernel is now a function\n",
    "over $\\mathcal{X} \\times \\mathcal{X} \\times T \\times T$, where $\\mathcal{X}$ is the input and $T$ is the output space. Print the input into kernel, it will have the dimensionality of this cartesian product space. \n",
    "The default kernel in fvgp is a deep kernel, which can be good, but there is no guarantee.\n",
    "To use the default kernel, pytorch has to be installed manually (pip install torch)."
   ]
  },
  {
   "cell_type": "code",
   "execution_count": null,
   "id": "94379422",
   "metadata": {},
   "outputs": [],
   "source": [
    "#As imple kernel, that won't lead to good performance because its stationary\n",
    "def mkernel(x1,x2,hps,obj):\n",
    "    d = obj._get_distance_matrix(x1,x2)\n",
    "    return hps[0] * obj.matern_kernel_diff1(d,hps[1])"
   ]
  },
  {
   "cell_type": "markdown",
   "id": "cf3a2f49",
   "metadata": {},
   "source": [
    "## Initialization"
   ]
  },
  {
   "cell_type": "code",
   "execution_count": null,
   "id": "2ab03c5d",
   "metadata": {
    "scrolled": false
   },
   "outputs": [],
   "source": [
    "from fvgp import fvGP\n",
    "#This is where things get a littlecomplicated. What's with all those numbers there.\n",
    "#This input space is 3-dimensional, the output space has 3 tasks, but is still 1-dimensional\n",
    "#in the fvgp world. Therefore fvGP(3,1,3, ...), for 3 dim input, 1 dim output, with 3 outputs \n",
    "\n",
    "my_gp2 = fvGP(3, 1, 3, x_data3,y_data3,init_hyperparameters=np.ones((2)), info = True,\n",
    "              #gp_kernel_function=mkernel #what happens if comment this out? (adjust bounds below)\n",
    "             )\n",
    "#change this based on kernel choice\n",
    "hps_bounds = my_gp2.hps_bounds \n",
    "#hps_bounds = np.array([[0.001,10000.],[1.,1000.]])\n",
    "\n",
    "#my_gp2.update_gp_data(x_data3,y_data3)\n",
    "print(\"Global Training in progress\")\n",
    "my_gp2.train(hps_bounds, max_iter = 200)"
   ]
  },
  {
   "cell_type": "markdown",
   "id": "3bda3d35",
   "metadata": {},
   "source": [
    "## Prediction"
   ]
  },
  {
   "cell_type": "code",
   "execution_count": null,
   "id": "40c4126a",
   "metadata": {},
   "outputs": [],
   "source": [
    "#first task\n",
    "mean1 = my_gp2.posterior_mean(x_pred3D, x_out = np.zeros((1,1)))[\"f(x)\"]\n",
    "var1 =  my_gp2.posterior_covariance(x_pred3D, x_out = np.zeros((1,1)))[\"v(x)\"]\n",
    "\n",
    "#second task\n",
    "mean2 = my_gp2.posterior_mean(x_pred3D, x_out = np.zeros((1,1)) + 1)[\"f(x)\"]\n",
    "var2 =  my_gp2.posterior_covariance(x_pred3D, x_out = np.zeros((1,1))+1)[\"v(x)\"]\n",
    "\n",
    "#third task\n",
    "mean3 = my_gp2.posterior_mean(x_pred3D, x_out = np.zeros((1,1)) + 2)[\"f(x)\"]\n",
    "var3 =  my_gp2.posterior_covariance(x_pred3D, x_out = np.zeros((1,1))+2)[\"v(x)\"]"
   ]
  },
  {
   "cell_type": "code",
   "execution_count": null,
   "id": "c4f6da36",
   "metadata": {},
   "outputs": [],
   "source": [
    "#extract data point to compare to:\n",
    "index300 = np.where(x_data3[:,2]==300.)\n",
    "imageX_data = x_data3[index300]\n",
    "imageY_data = y_data3[index300]\n",
    "print(y_data3)"
   ]
  },
  {
   "cell_type": "code",
   "execution_count": null,
   "id": "eabb5af6",
   "metadata": {
    "scrolled": false
   },
   "outputs": [],
   "source": [
    "fig = go.Figure()\n",
    "fig.add_trace(go.Scatter3d(x=x_pred3D[:,0],y=x_pred3D[:,1], z=mean1,\n",
    "                             mode='markers',marker=dict(color=mean1, size = 5)))\n",
    "fig.add_trace(go.Scatter3d(x=imageX_data[:,0], y=imageX_data[:,1] , z=imageY_data[:,0],\n",
    "                           mode='markers',marker=dict(color=imageY_data[:,0], size = 5)))\n",
    "fig.update_layout(autosize=False,\n",
    "                  width=800, height=800,\n",
    "                  font=dict(size=18,),\n",
    "                  margin=dict(l=0, r=0, b=0, t=0))\n",
    "fig.show()\n",
    "\n",
    "\n",
    "\n",
    "fig = go.Figure()\n",
    "fig.add_trace(go.Scatter3d(x=x_pred3D[:,0], y=x_pred3D[:,1], z=mean2,\n",
    "                           mode='markers',marker=dict(color=mean2, size = 5)))\n",
    "fig.add_trace(go.Scatter3d(x=imageX_data[:,0], y=imageX_data[:,1], z=imageY_data[:,1],\n",
    "                           mode='markers',marker=dict(color=imageY_data[:,1], size = 5)))\n",
    "fig.update_layout(autosize=False,\n",
    "                  width=800, height=800,\n",
    "                  font=dict(size=18,),\n",
    "                  margin=dict(l=0, r=0, b=0, t=0))\n",
    "fig.show()\n",
    "\n",
    "fig = go.Figure()\n",
    "fig.add_trace(go.Scatter3d(x=x_pred3D[:,0], y=x_pred3D[:,1], z=mean3,\n",
    "                           mode='markers',marker=dict(color=mean3, size = 5)))\n",
    "fig.add_trace(go.Scatter3d(x=imageX_data[:,0], y=imageX_data[:,1], z=imageY_data[:,2],\n",
    "                           mode='markers',marker=dict(color=imageY_data[:,2], size = 5)))\n",
    "fig.update_layout(autosize=False,\n",
    "                  width=800, height=800,\n",
    "                  font=dict(size=18,),\n",
    "                  margin=dict(l=0, r=0, b=0, t=0))\n",
    "fig.show()\n",
    "\n"
   ]
  }
 ],
 "metadata": {
  "kernelspec": {
   "display_name": "Python 3 (ipykernel)",
   "language": "python",
   "name": "python3"
  },
  "language_info": {
   "codemirror_mode": {
    "name": "ipython",
    "version": 3
   },
   "file_extension": ".py",
   "mimetype": "text/x-python",
   "name": "python",
   "nbconvert_exporter": "python",
   "pygments_lexer": "ipython3",
   "version": "3.10.12"
  }
 },
 "nbformat": 4,
 "nbformat_minor": 5
}
