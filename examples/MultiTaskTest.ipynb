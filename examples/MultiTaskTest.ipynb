{
 "cells": [
  {
   "cell_type": "markdown",
   "id": "23441d5f",
   "metadata": {},
   "source": [
    "# Multi-Task Test\n",
    "At first we have to install the newest version of fvGP"
   ]
  },
  {
   "cell_type": "code",
   "execution_count": null,
   "id": "0a3e546e",
   "metadata": {},
   "outputs": [],
   "source": [
    "##first install the newest version of fvgp\n",
    "#!pip install fvgp==4.2.0"
   ]
  },
  {
   "cell_type": "markdown",
   "id": "bb1440cf",
   "metadata": {},
   "source": [
    "## Setup"
   ]
  },
  {
   "cell_type": "code",
   "execution_count": null,
   "id": "5f01b03c",
   "metadata": {},
   "outputs": [],
   "source": [
    "import numpy as np\n",
    "import matplotlib.pyplot as plt\n",
    "from fvgp import GP\n",
    "import plotly.graph_objects as go\n",
    "from itertools import product\n",
    "\n",
    "%load_ext autoreload\n",
    "%autoreload 2"
   ]
  },
  {
   "cell_type": "markdown",
   "id": "3dcf6ea0",
   "metadata": {},
   "source": [
    "## Data"
   ]
  },
  {
   "cell_type": "code",
   "execution_count": null,
   "id": "82d7f5cd",
   "metadata": {},
   "outputs": [],
   "source": [
    "data = np.load(\"./data/sim_variable_mod.npy\")\n",
    "sparsification = 32\n",
    "\n",
    "x_data3 = data[:,5:][::sparsification]\n",
    "y_data3 = data[:,0:3][::sparsification]\n",
    "\n",
    "#it is good practice to check the format of the data\n",
    "print(x_data3.shape)\n",
    "print(y_data3.shape)"
   ]
  },
  {
   "cell_type": "code",
   "execution_count": null,
   "id": "8e6548d9",
   "metadata": {},
   "outputs": [],
   "source": [
    "x = np.linspace(30,100,100)\n",
    "y = np.linspace(40,130,100)\n",
    "x_pred3D = np.asarray(list(product(x, y)))\n",
    "x_pred3D = np.column_stack([x_pred3D, np.zeros((len(x_pred3D),1)) + 300.])"
   ]
  },
  {
   "cell_type": "markdown",
   "id": "04b17f9c",
   "metadata": {},
   "source": [
    "## Plotting"
   ]
  },
  {
   "cell_type": "code",
   "execution_count": null,
   "id": "77daadc3",
   "metadata": {},
   "outputs": [],
   "source": [
    "def scatter(x,y,z,size=3, color = 1):\n",
    "    #if not color: color = z\n",
    "    fig = go.Figure()\n",
    "    fig.add_trace(go.Scatter3d(x=x, y=y, z=z,mode='markers',marker=dict(color=color, size = size)))\n",
    "    \n",
    "    \n",
    "    fig.update_layout(autosize=False,\n",
    "                  width=800, height=800,\n",
    "                  font=dict(size=18,),\n",
    "                  margin=dict(l=0, r=0, b=0, t=0))\n",
    "    fig.show()"
   ]
  },
  {
   "cell_type": "code",
   "execution_count": null,
   "id": "db717115",
   "metadata": {
    "scrolled": false
   },
   "outputs": [],
   "source": [
    "scatter(x_data3[:,0],x_data3[:,1],x_data3[:,2], size = 5, color = y_data3[:,0])\n",
    "scatter(x_data3[:,0],x_data3[:,1],x_data3[:,2], size = 5, color = y_data3[:,1])\n",
    "scatter(x_data3[:,0],x_data3[:,1],x_data3[:,2], size = 5, color = y_data3[:,2])"
   ]
  },
  {
   "cell_type": "markdown",
   "id": "17b6acb9",
   "metadata": {},
   "source": [
    "## A simple kernel definition\n",
    "It is vital in the multi-task case to think hard about kernel design. The kernel is now a function\n",
    "over $\\mathcal{X} \\times \\mathcal{X} \\times T \\times T$, where $\\mathcal{X}$ is the input and $T$ is the output space. Print the input into kernel, it will have the dimensionality of this cartesian product space. \n",
    "The default kernel in fvgp is a deep kernel, which can be good, but there is no guarantee.\n",
    "To use the default kernel, pytorch has to be installed manually (pip install torch)."
   ]
  },
  {
   "cell_type": "code",
   "execution_count": null,
   "id": "075247af",
   "metadata": {},
   "outputs": [],
   "source": [
    "#A simple kernel, that won't lead to good performance because it's stationary\n",
    "from fvgp.gp_kernels import *\n",
    "def mkernel(x1,x2,hps,obj):\n",
    "    d = get_distance_matrix(x1,x2)\n",
    "    return hps[0] * matern_kernel_diff1(d,hps[1])"
   ]
  },
  {
   "cell_type": "markdown",
   "id": "995d6ac2",
   "metadata": {},
   "source": [
    "## Initialization"
   ]
  },
  {
   "cell_type": "code",
   "execution_count": null,
   "id": "c97c2359",
   "metadata": {},
   "outputs": [],
   "source": [
    "from fvgp import fvGP\n",
    "#This is where things get a little complicated. What's with all those numbers there?\n",
    "#This input space is 3-dimensional, and the output space has 3 tasks but is still 1-dimensional\n",
    "#in the fvgp world. Therefore fvGP(3,1,3, ...), for 3 dim input, 1 dim output, with 3 outputs\n",
    "#for the default (deep) kernel to work you have to install PyTorch manually\n",
    "\n",
    "my_gp2 = fvGP(x_data3,y_data3,init_hyperparameters=np.ones((2)), info = False,\n",
    "              #gp_kernel_function=mkernel#what happens if we comment this in/out?\n",
    "             )\n",
    "print(\"Global Training in progress\")\n",
    "#use the next two lines if kernel `mkernel` is used\n",
    "#if not a default deep kernel will be used that will set initi hyperparameters and bounds\n",
    "#hps_bounds = np.array([[0.001,10000.],[1.,1000.]])\n",
    "#my_gp2.train(hyperparameter_bounds = hps_bounds, max_iter = 2)\n",
    "\n",
    "#use this next line if the default (deep) kernel is used (no bounds required)\n",
    "my_gp2.train(max_iter = 2)"
   ]
  },
  {
   "cell_type": "markdown",
   "id": "dcb914b9",
   "metadata": {},
   "source": [
    "## Prediction"
   ]
  },
  {
   "cell_type": "code",
   "execution_count": null,
   "id": "77c59702",
   "metadata": {},
   "outputs": [],
   "source": [
    "#first task\n",
    "mean1 = my_gp2.posterior_mean(x_pred3D, x_out = np.zeros((1)))[\"f(x)\"]\n",
    "var1 =  my_gp2.posterior_covariance(x_pred3D, x_out = np.zeros((1)))[\"v(x)\"]\n",
    "\n",
    "#second task\n",
    "mean2 = my_gp2.posterior_mean(x_pred3D, x_out = np.zeros((1)) + 1)[\"f(x)\"]\n",
    "var2 =  my_gp2.posterior_covariance(x_pred3D, x_out = np.zeros((1))+1)[\"v(x)\"]\n",
    "\n",
    "#third task\n",
    "mean3 = my_gp2.posterior_mean(x_pred3D, x_out = np.zeros((1)) + 2)[\"f(x)\"]\n",
    "var3 =  my_gp2.posterior_covariance(x_pred3D, x_out = np.zeros((1))+2)[\"v(x)\"]"
   ]
  },
  {
   "cell_type": "code",
   "execution_count": null,
   "id": "1119b5d8",
   "metadata": {
    "scrolled": true
   },
   "outputs": [],
   "source": [
    "#extract data point to compare to:\n",
    "index300 = np.where(x_data3[:,2]==300.)\n",
    "imageX_data = x_data3[index300]\n",
    "imageY_data = y_data3[index300]\n",
    "#print(y_data3)"
   ]
  },
  {
   "cell_type": "code",
   "execution_count": null,
   "id": "4d4f75df",
   "metadata": {
    "scrolled": false
   },
   "outputs": [],
   "source": [
    "fig = go.Figure()\n",
    "fig.add_trace(go.Scatter3d(x=x_pred3D[:,0],y=x_pred3D[:,1], z=mean1,\n",
    "                             mode='markers',marker=dict(color=mean1, size = 5)))\n",
    "fig.add_trace(go.Scatter3d(x=imageX_data[:,0], y=imageX_data[:,1] , z=imageY_data[:,0],\n",
    "                           mode='markers',marker=dict(color=imageY_data[:,0], size = 5)))\n",
    "fig.update_layout(autosize=False,\n",
    "                  width=800, height=800,\n",
    "                  font=dict(size=18,),\n",
    "                  margin=dict(l=0, r=0, b=0, t=0))\n",
    "fig.show()\n",
    "\n",
    "\n",
    "\n",
    "fig = go.Figure()\n",
    "fig.add_trace(go.Scatter3d(x=x_pred3D[:,0], y=x_pred3D[:,1], z=mean2,\n",
    "                           mode='markers',marker=dict(color=mean2, size = 5)))\n",
    "fig.add_trace(go.Scatter3d(x=imageX_data[:,0], y=imageX_data[:,1], z=imageY_data[:,1],\n",
    "                           mode='markers',marker=dict(color=imageY_data[:,1], size = 5)))\n",
    "fig.update_layout(autosize=False,\n",
    "                  width=800, height=800,\n",
    "                  font=dict(size=18,),\n",
    "                  margin=dict(l=0, r=0, b=0, t=0))\n",
    "fig.show()\n",
    "\n",
    "fig = go.Figure()\n",
    "fig.add_trace(go.Scatter3d(x=x_pred3D[:,0], y=x_pred3D[:,1], z=mean3,\n",
    "                           mode='markers',marker=dict(color=mean3, size = 5)))\n",
    "fig.add_trace(go.Scatter3d(x=imageX_data[:,0], y=imageX_data[:,1], z=imageY_data[:,2],\n",
    "                           mode='markers',marker=dict(color=imageY_data[:,2], size = 5)))\n",
    "fig.update_layout(autosize=False,\n",
    "                  width=800, height=800,\n",
    "                  font=dict(size=18,),\n",
    "                  margin=dict(l=0, r=0, b=0, t=0))\n",
    "fig.show()\n",
    "\n"
   ]
  }
 ],
 "metadata": {
  "kernelspec": {
   "display_name": "Python 3 (ipykernel)",
   "language": "python",
   "name": "python3"
  },
  "language_info": {
   "codemirror_mode": {
    "name": "ipython",
    "version": 3
   },
   "file_extension": ".py",
   "mimetype": "text/x-python",
   "name": "python",
   "nbconvert_exporter": "python",
   "pygments_lexer": "ipython3",
   "version": "3.10.12"
  }
 },
 "nbformat": 4,
 "nbformat_minor": 5
}
