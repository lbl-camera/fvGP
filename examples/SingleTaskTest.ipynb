{
 "cells": [
  {
   "cell_type": "markdown",
   "id": "1ac806ed",
   "metadata": {},
   "source": [
    "# fvGP Single-Task Test"
   ]
  },
  {
   "cell_type": "markdown",
   "id": "02cb0f0d",
   "metadata": {},
   "source": [
    "This is the new test for fvgp version 4.1.3 and later."
   ]
  },
  {
   "cell_type": "code",
   "execution_count": null,
   "id": "9bf04f03",
   "metadata": {},
   "outputs": [],
   "source": [
    "#!pip install fvgp==4.1.3"
   ]
  },
  {
   "cell_type": "markdown",
   "id": "73a52727",
   "metadata": {},
   "source": [
    "## Setup"
   ]
  },
  {
   "cell_type": "code",
   "execution_count": null,
   "id": "32273c2d",
   "metadata": {},
   "outputs": [],
   "source": [
    "import numpy as np\n",
    "import matplotlib.pyplot as plt\n",
    "from fvgp import GP\n",
    "import time\n",
    "\n",
    "\n",
    "%load_ext autoreload\n",
    "%autoreload 2"
   ]
  },
  {
   "cell_type": "code",
   "execution_count": null,
   "id": "ae775e34",
   "metadata": {},
   "outputs": [],
   "source": [
    "from itertools import product\n",
    "x_pred1D = np.linspace(0,1,1000).reshape(-1,1)"
   ]
  },
  {
   "cell_type": "markdown",
   "id": "1522947f",
   "metadata": {},
   "source": [
    "## Data"
   ]
  },
  {
   "cell_type": "code",
   "execution_count": null,
   "id": "b2adbcad",
   "metadata": {},
   "outputs": [],
   "source": [
    "x = np.linspace(0,600,1000)\n",
    "def f1(x):\n",
    "    return np.sin(5. * x) + np.cos(10. * x) + (2.* (x-0.4)**2) * np.cos(100. * x)\n",
    " \n",
    "x_data = np.random.rand(20).reshape(-1,1) \n",
    "y_data = f1(x_data[:,0]) + (np.random.rand(len(x_data))-0.5) * 0.5\n",
    "\n",
    "plt.figure(figsize = (15,5))\n",
    "plt.xticks([0.,0.5,1.0])\n",
    "plt.yticks([-2,-1,0.,1])\n",
    "plt.xticks(fontsize=20)\n",
    "plt.yticks(fontsize=20)\n",
    "plt.plot(x_pred1D,f1(x_pred1D), color = 'orange', linewidth = 4)\n",
    "plt.scatter(x_data[:,0],y_data, color = 'black')"
   ]
  },
  {
   "cell_type": "markdown",
   "id": "6c2370df",
   "metadata": {},
   "source": [
    "## Customizing a Gaussian Process"
   ]
  },
  {
   "cell_type": "code",
   "execution_count": null,
   "id": "bc304736",
   "metadata": {},
   "outputs": [],
   "source": [
    "def my_noise(x,hps,obj):\n",
    "    #This is a simple noise function but can be arbitrarily complex using many hyperparameters.\n",
    "    #The noise function always has to return a matrix, because the noise can have covariances.\n",
    "    return np.diag(np.zeros((len(x))) + hps[2])\n",
    "\n",
    "#stationary\n",
    "def skernel(x1,x2,hps,obj):\n",
    "    #The kernel follows the mathematical definition of a kernel. This\n",
    "    #means there is no limit to the variety of kernels you can define.\n",
    "    d = obj.get_distance_matrix(x1,x2)\n",
    "    return hps[0] * obj.matern_kernel_diff1(d,hps[1])\n",
    "\n",
    "\n",
    "def meanf(x, hps, obj):\n",
    "    #This ios a simple mean function but it can be arbitrarily complex using many hyperparameters.\n",
    "    return np.sin(hps[3] * x[:,0])\n",
    "#it is a good idea to plot the prior mean function to make sure we did not mess up\n",
    "plt.figure(figsize = (15,5))\n",
    "plt.plot(x_pred1D,meanf(x_pred1D, np.array([1.,1.,5.0,2.]), None), color = 'orange', label = 'task1')"
   ]
  },
  {
   "cell_type": "markdown",
   "id": "c408aac5",
   "metadata": {},
   "source": [
    "## Initialization and different training options"
   ]
  },
  {
   "cell_type": "code",
   "execution_count": null,
   "id": "c69897d8",
   "metadata": {
    "scrolled": true
   },
   "outputs": [],
   "source": [
    "\n",
    "\n",
    "my_gp1 = GP(1, x_data,y_data,\n",
    "            init_hyperparameters = np.ones((4))/10.,  # we need enough of those for kernel, noise and prior mean functions\n",
    "            noise_variances=np.ones(y_data.shape) * 0.01, #provding noise variances and a noise function will raise a warning \n",
    "            #hyperparameter_bounds= hps_bounds,\n",
    "            compute_device='cpu', \n",
    "            gp_kernel_function=skernel, \n",
    "            gp_kernel_function_grad=None, \n",
    "            gp_mean_function=meanf, \n",
    "            gp_mean_function_grad=None,\n",
    "            gp_noise_function=my_noise,\n",
    "            gp2Scale = False,\n",
    "            store_inv=False, \n",
    "            ram_economy=False, \n",
    "            args=None,\n",
    "            )\n",
    "\n",
    "\n",
    "hps_bounds = np.array([[0.01,10.], #signal variance for the kernel\n",
    "                       [0.01,10.], #length scale for the kernel\n",
    "                       [0.001,0.1],  #noise\n",
    "                       [0.01,1.]  #mean\n",
    "                      ])\n",
    "my_gp1.update_gp_data(x_data, y_data, noise_variances=np.ones(y_data.shape) * 0.01)\n",
    "print(\"Standard Training\")\n",
    "my_gp1.train(hyperparameter_bounds=hps_bounds)\n",
    "print(\"Global Training\")\n",
    "my_gp1.train(hyperparameter_bounds=hps_bounds, method='global')\n",
    "print(\"hps: \", my_gp1.get_hyperparameters())\n",
    "print(\"Local Training\")\n",
    "my_gp1.train(hyperparameter_bounds=hps_bounds, method='local')\n",
    "print(my_gp1.get_hyperparameters())\n",
    "print(\"MCMC Training\")\n",
    "my_gp1.train(hyperparameter_bounds=hps_bounds, method='mcmc', max_iter=1000)\n",
    "print(\"HGDL Training\")\n",
    "my_gp1.train(hyperparameter_bounds=hps_bounds, method='hgdl', max_iter=10)\n"
   ]
  },
  {
   "cell_type": "markdown",
   "id": "091381c5",
   "metadata": {},
   "source": [
    "### More advanced: Asynchronous training\n",
    "Train asynchronously on a remote server or locally. \n",
    "You can also start a bunch of different trainings on different computers.\n",
    "This training will continue without any signs of life until you call 'my_gp1.stop_training(opt_obj)'"
   ]
  },
  {
   "cell_type": "code",
   "execution_count": null,
   "id": "9630230e",
   "metadata": {},
   "outputs": [],
   "source": [
    "opt_obj = my_gp1.train_async(hyperparameter_bounds=hps_bounds)"
   ]
  },
  {
   "cell_type": "code",
   "execution_count": null,
   "id": "76e28df4",
   "metadata": {},
   "outputs": [],
   "source": [
    "#the result won't change much (or at all) since this is such a simple optimization\n",
    "for i in range(10):\n",
    "    time.sleep(2)\n",
    "    my_gp1.update_hyperparameters(opt_obj)\n",
    "    print(my_gp1.hyperparameters)\n",
    "    print(\"\")"
   ]
  },
  {
   "cell_type": "code",
   "execution_count": null,
   "id": "5bc207af",
   "metadata": {},
   "outputs": [],
   "source": [
    "my_gp1.stop_training(opt_obj)"
   ]
  },
  {
   "cell_type": "markdown",
   "id": "4c9a98bd",
   "metadata": {},
   "source": [
    "## The Result"
   ]
  },
  {
   "cell_type": "code",
   "execution_count": null,
   "id": "f87e6efa",
   "metadata": {},
   "outputs": [],
   "source": [
    "#let's make a prediction\n",
    "x_pred = np.linspace(0,1,1000)\n",
    "\n",
    "\n",
    "%timeit mean1 = my_gp1.posterior_mean(x_pred.reshape(-1,1))[\"f(x)\"]\n",
    "%timeit var1 =  my_gp1.posterior_covariance(x_pred.reshape(-1,1), variance_only=False, add_noise=True)[\"v(x)\"]\n",
    "\n",
    "mean1 = my_gp1.posterior_mean(x_pred.reshape(-1,1))[\"f(x)\"]\n",
    "var1 =  my_gp1.posterior_covariance(x_pred.reshape(-1,1), variance_only=False, add_noise=True)[\"v(x)\"]\n",
    "plt.figure(figsize = (16,10))\n",
    "plt.plot(x_pred,mean1, label = \"posterior mean\", linewidth = 4)\n",
    "plt.plot(x_pred1D,f1(x_pred1D), label = \"latent function\", linewidth = 4)\n",
    "plt.fill_between(x_pred, mean1 - 3. * np.sqrt(var1), mean1 + 3. * np.sqrt(var1), alpha = 0.5, color = \"grey\", label = \"var\")\n",
    "plt.scatter(x_data,y_data, color = 'black')\n",
    "\n",
    "\n",
    "##looking at some validation metrics\n",
    "print(my_gp1.rmse(x_pred1D,f1(x_pred1D)))\n",
    "print(my_gp1.crps(x_pred1D,f1(x_pred1D)))\n",
    "\n",
    "#1.58 ms ± 120 µs per loop (mean ± std. dev. of 7 runs, 1,000 loops each)\n",
    "#87 ms ± 7.16 ms per loop (mean ± std. dev. of 7 runs, 10 loops each)"
   ]
  },
  {
   "cell_type": "markdown",
   "id": "544fd753",
   "metadata": {},
   "source": [
    "And just for fun, we can plot how much information we are predicted to gain if we measured points across the domain"
   ]
  },
  {
   "cell_type": "code",
   "execution_count": null,
   "id": "d25f4ba2",
   "metadata": {
    "scrolled": true
   },
   "outputs": [],
   "source": [
    "relative_entropy =  my_gp1.gp_relative_information_entropy_set(x_pred.reshape(-1,1))[\"RIE\"]"
   ]
  },
  {
   "cell_type": "code",
   "execution_count": null,
   "id": "65be702e",
   "metadata": {},
   "outputs": [],
   "source": [
    "plt.figure(figsize = (16,10))\n",
    "plt.plot(x_pred,relative_entropy, label = \"relative_entropy\", linewidth = 4)\n",
    "plt.scatter(x_data,y_data, color = 'black')\n",
    "plt.legend()"
   ]
  },
  {
   "cell_type": "code",
   "execution_count": null,
   "id": "a85a299f",
   "metadata": {},
   "outputs": [],
   "source": [
    "#We can ask mutual information and total correlation there is given some test data\n",
    "x_test = np.array([[0.45],[0.45]])\n",
    "print(\"MI: \",my_gp1.gp_mutual_information(x_test))\n",
    "print(\"TC: \",my_gp1.gp_total_correlation(x_test))"
   ]
  }
 ],
 "metadata": {
  "kernelspec": {
   "display_name": "Python 3 (ipykernel)",
   "language": "python",
   "name": "python3"
  },
  "language_info": {
   "codemirror_mode": {
    "name": "ipython",
    "version": 3
   },
   "file_extension": ".py",
   "mimetype": "text/x-python",
   "name": "python",
   "nbconvert_exporter": "python",
   "pygments_lexer": "ipython3",
   "version": "3.10.12"
  }
 },
 "nbformat": 4,
 "nbformat_minor": 5
}
