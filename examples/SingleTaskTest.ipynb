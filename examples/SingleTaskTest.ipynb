{
 "cells": [
  {
   "cell_type": "markdown",
   "id": "798e6ef7",
   "metadata": {},
   "source": [
    "# fvGP Single-Task Test"
   ]
  },
  {
   "cell_type": "markdown",
   "id": "3748355f",
   "metadata": {},
   "source": [
    "This is the new test for fvgp version 4.0.0 and later."
   ]
  },
  {
   "cell_type": "code",
   "execution_count": null,
   "id": "ed5bffd4",
   "metadata": {},
   "outputs": [],
   "source": [
    "##first install the newest version of fvgp\n",
    "#!pip install fvgp==4.0.0"
   ]
  },
  {
   "cell_type": "markdown",
   "id": "7d1fc374",
   "metadata": {},
   "source": [
    "## Setup"
   ]
  },
  {
   "cell_type": "code",
   "execution_count": null,
   "id": "f84c291f",
   "metadata": {},
   "outputs": [],
   "source": [
    "import numpy as np\n",
    "import matplotlib.pyplot as plt\n",
    "from fvgp import GP\n",
    "import time\n",
    "\n",
    "\n",
    "%load_ext autoreload\n",
    "%autoreload 2"
   ]
  },
  {
   "cell_type": "code",
   "execution_count": null,
   "id": "7ad5ee9d",
   "metadata": {},
   "outputs": [],
   "source": [
    "from itertools import product\n",
    "x_pred1D = np.linspace(0,1,1000).reshape(-1,1)"
   ]
  },
  {
   "cell_type": "markdown",
   "id": "61faf8f5",
   "metadata": {},
   "source": [
    "## Data"
   ]
  },
  {
   "cell_type": "code",
   "execution_count": null,
   "id": "124ffd7f",
   "metadata": {},
   "outputs": [],
   "source": [
    "x = np.linspace(0,600,1000)\n",
    "def f1(x):\n",
    "    return np.sin(5. * x) + np.cos(10. * x) + (2.* (x-0.4)**2) * np.cos(100. * x)\n",
    " \n",
    "x_data = np.random.rand(20) \n",
    "y_data = f1(x_data) + (np.random.rand(len(x_data))-0.5) * 0.5\n",
    "\n",
    "plt.figure(figsize = (15,5))\n",
    "plt.xticks([0.,0.5,1.0])\n",
    "plt.yticks([-2,-1,0.,1])\n",
    "plt.xticks(fontsize=20)\n",
    "plt.yticks(fontsize=20)\n",
    "plt.plot(x_pred1D,f1(x_pred1D), color = 'orange', linewidth = 4)\n",
    "plt.scatter(x_data,y_data, color = 'black')"
   ]
  },
  {
   "cell_type": "markdown",
   "id": "84782d2a",
   "metadata": {},
   "source": [
    "## Customizing a Gaussian Process"
   ]
  },
  {
   "cell_type": "code",
   "execution_count": null,
   "id": "20aa5c90",
   "metadata": {},
   "outputs": [],
   "source": [
    "def my_noise(x,hps,obj):\n",
    "    #This is a simple noise function, but can be arbitrarily complex using many hyperparameters.\n",
    "    #The noise function always has to return a matrix, because the noise can have covariances.\n",
    "    return np.diag(np.zeros((len(x))) + hps[2])\n",
    "\n",
    "#stationary\n",
    "def skernel(x1,x2,hps,obj):\n",
    "    #The kernel follows the mathematical definition of a kernel. This\n",
    "    #means there is no limit to the variety of kernels you can define.\n",
    "    d = obj._get_distance_matrix(x1,x2)\n",
    "    return hps[0] * obj.matern_kernel_diff1(d,hps[1])\n",
    "\n",
    "\n",
    "def meanf(x, hps, obj):\n",
    "    #This ios a simple mean function but it can be arbitrarily complex using many hyperparameters.\n",
    "    return np.sin(hps[3] * x[:,0])\n",
    "#it is a good idea to plot the prior mean function to make sure we did not mess up\n",
    "plt.figure(figsize = (15,5))\n",
    "plt.plot(x_pred1D,meanf(x_pred1D, np.array([1.,1.,5.0,2.]), None), color = 'orange', label = 'task1')"
   ]
  },
  {
   "cell_type": "markdown",
   "id": "9b838019",
   "metadata": {},
   "source": [
    "## Initialization and different training options"
   ]
  },
  {
   "cell_type": "code",
   "execution_count": null,
   "id": "8cd4cfed",
   "metadata": {
    "scrolled": true
   },
   "outputs": [],
   "source": [
    "my_gp1 = GP(1, x_data,y_data,\n",
    "            init_hyperparameters = np.ones((4))/10.,  # we need enough of those for kernel, noise and prior mean functions\n",
    "            noise_variances=np.ones(y_data.shape) * 0.01, #provding noise variances and a noise function will raise a warning \n",
    "            compute_device='cpu', \n",
    "            gp_kernel_function=skernel, \n",
    "            gp_kernel_function_grad=None, \n",
    "            gp_mean_function=meanf, \n",
    "            gp_mean_function_grad=None,\n",
    "            gp_noise_function=my_noise,\n",
    "            normalize_y=False,\n",
    "            sparse_mode=False,\n",
    "            gp2Scale = False,\n",
    "            store_inv=False, \n",
    "            ram_economy=False, \n",
    "            args=None,\n",
    "            )\n",
    "\n",
    "\n",
    "hps_bounds = np.array([[0.01,10.], #signal variance for the kernel\n",
    "                       [0.01,10.], #length scale for the kernel\n",
    "                       [0.001,0.1],  #noise\n",
    "                       [0.01,1.]  #mean\n",
    "                      ])\n",
    "\n",
    "my_gp1.update_gp_data(x_data, y_data, noise_variances=np.ones(y_data.shape) * 0.01)\n",
    "print(\"Standard Training\")\n",
    "my_gp1.train(hps_bounds)\n",
    "print(\"Global Training\")\n",
    "my_gp1.train(hps_bounds, method='global')\n",
    "print(\"hps: \", my_gp1.get_hyperparameters())\n",
    "print(\"Local Training\")\n",
    "my_gp1.train(hps_bounds, method='local')\n",
    "print(my_gp1.get_hyperparameters())\n",
    "print(\"MCMC Training\")\n",
    "my_gp1.train(hps_bounds, method='mcmc', max_iter=1000)\n",
    "print(\"HGDL Training\")\n",
    "my_gp1.train(hps_bounds, method='hgdl', max_iter=10)\n"
   ]
  },
  {
   "cell_type": "markdown",
   "id": "2484096c",
   "metadata": {},
   "source": [
    "### More advanced: Asynchronous training\n",
    "Train asynchronously on a remote server or locally. \n",
    "You can also start a bunch of different trainings on different computers.\n",
    "This training will continue without any signs of life until you call 'my_gp1.stop_training(opt_obj)'"
   ]
  },
  {
   "cell_type": "code",
   "execution_count": null,
   "id": "68482cff",
   "metadata": {},
   "outputs": [],
   "source": [
    "opt_obj = my_gp1.train_async(hps_bounds)"
   ]
  },
  {
   "cell_type": "code",
   "execution_count": null,
   "id": "7749c658",
   "metadata": {},
   "outputs": [],
   "source": [
    "for i in range(10):\n",
    "    time.sleep(2)\n",
    "    my_gp1.update_hyperparameters(opt_obj)\n",
    "    print(my_gp1.hyperparameters)\n",
    "    print(\"\")"
   ]
  },
  {
   "cell_type": "code",
   "execution_count": null,
   "id": "aa6dbd11",
   "metadata": {},
   "outputs": [],
   "source": [
    "my_gp1.stop_training(opt_obj)"
   ]
  },
  {
   "cell_type": "markdown",
   "id": "492b807d",
   "metadata": {},
   "source": [
    "## The Result"
   ]
  },
  {
   "cell_type": "code",
   "execution_count": null,
   "id": "0922be9e",
   "metadata": {
    "scrolled": false
   },
   "outputs": [],
   "source": [
    "#let's make a prediction\n",
    "x_pred = np.linspace(0,1,1000)\n",
    "\n",
    "mean1 = my_gp1.posterior_mean(x_pred.reshape(-1,1))[\"f(x)\"]\n",
    "var1 =  my_gp1.posterior_covariance(x_pred.reshape(-1,1), variance_only=False, add_noise=True)[\"v(x)\"]\n",
    "plt.figure(figsize = (16,10))\n",
    "plt.plot(x_pred,mean1, label = \"posterior mean\", linewidth = 4)\n",
    "plt.plot(x_pred1D,f1(x_pred1D), label = \"latent function\", linewidth = 4)\n",
    "plt.fill_between(x_pred, mean1 - 3. * np.sqrt(var1), mean1 + 3. * np.sqrt(var1), alpha = 0.5, color = \"grey\", label = \"var\")\n",
    "plt.scatter(x_data,y_data, color = 'black')\n",
    "\n",
    "\n",
    "##looking at some validation metrics\n",
    "print(my_gp1.rmse(x_pred1D,f1(x_pred1D)))\n",
    "print(my_gp1.crps(x_pred1D,f1(x_pred1D)))"
   ]
  },
  {
   "cell_type": "markdown",
   "id": "0a837c35",
   "metadata": {},
   "source": [
    "And just for fun, we can plot how much information we are predicted to gain if we measured points across the domain"
   ]
  },
  {
   "cell_type": "code",
   "execution_count": null,
   "id": "43523eb1",
   "metadata": {
    "scrolled": true
   },
   "outputs": [],
   "source": [
    "sig3 =  my_gp1.shannon_information_gain_vec(x_pred.reshape(-1,1))[\"sig(x)\"]"
   ]
  },
  {
   "cell_type": "code",
   "execution_count": null,
   "id": "e7c443d8",
   "metadata": {
    "scrolled": false
   },
   "outputs": [],
   "source": [
    "plt.figure(figsize = (16,10))\n",
    "plt.plot(x_pred,sig3, label = \"shannon\", linewidth = 4)\n",
    "plt.scatter(x_data,y_data, color = 'black')\n",
    "plt.legend()"
   ]
  },
  {
   "cell_type": "code",
   "execution_count": null,
   "id": "9bee22b7",
   "metadata": {},
   "outputs": [],
   "source": [
    "sig3 =  my_gp1.shannon_information_gain(x_pred.reshape(-1,1))[\"sig\"]\n"
   ]
  },
  {
   "cell_type": "code",
   "execution_count": null,
   "id": "ba8a08a8",
   "metadata": {},
   "outputs": [],
   "source": [
    "#We can ask mutual information and total correlation there is given some test data\n",
    "x_test = np.array([[0.45],[0.45]])\n",
    "print(\"MI: \",my_gp1.gp_mutual_information(x_test))\n",
    "print(\"TC: \",my_gp1.gp_total_correlation(x_test))"
   ]
  },
  {
   "cell_type": "code",
   "execution_count": null,
   "id": "fc3be5d5",
   "metadata": {},
   "outputs": [],
   "source": []
  }
 ],
 "metadata": {
  "kernelspec": {
   "display_name": "Python 3 (ipykernel)",
   "language": "python",
   "name": "python3"
  },
  "language_info": {
   "codemirror_mode": {
    "name": "ipython",
    "version": 3
   },
   "file_extension": ".py",
   "mimetype": "text/x-python",
   "name": "python",
   "nbconvert_exporter": "python",
   "pygments_lexer": "ipython3",
   "version": "3.10.12"
  }
 },
 "nbformat": 4,
 "nbformat_minor": 5
}
