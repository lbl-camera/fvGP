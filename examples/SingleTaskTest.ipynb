{
 "cells": [
  {
   "cell_type": "markdown",
   "id": "a62d9227",
   "metadata": {},
   "source": [
    "# fvGP Single-Task Test"
   ]
  },
  {
   "cell_type": "markdown",
   "id": "586442c1",
   "metadata": {},
   "source": [
    "This is the new test for fvgp version 4.3.0 and later."
   ]
  },
  {
   "cell_type": "code",
   "execution_count": null,
   "id": "34efbf45",
   "metadata": {},
   "outputs": [],
   "source": [
    "#!pip install fvgp~=4.3.0"
   ]
  },
  {
   "cell_type": "markdown",
   "id": "7f02af88",
   "metadata": {},
   "source": [
    "## Setup"
   ]
  },
  {
   "cell_type": "code",
   "execution_count": null,
   "id": "45f5f4e4",
   "metadata": {},
   "outputs": [],
   "source": [
    "import numpy as np\n",
    "import matplotlib.pyplot as plt\n",
    "from fvgp import GP\n",
    "import time\n",
    "\n",
    "\n",
    "%load_ext autoreload\n",
    "%autoreload 2"
   ]
  },
  {
   "cell_type": "code",
   "execution_count": null,
   "id": "d2db64cc",
   "metadata": {},
   "outputs": [],
   "source": [
    "from itertools import product\n",
    "x_pred1D = np.linspace(0,1,1000).reshape(-1,1)"
   ]
  },
  {
   "cell_type": "markdown",
   "id": "84f9fb44",
   "metadata": {},
   "source": [
    "## Data"
   ]
  },
  {
   "cell_type": "code",
   "execution_count": null,
   "id": "079e3e98",
   "metadata": {},
   "outputs": [],
   "source": [
    "x = np.linspace(0,600,1000)\n",
    "def f1(x):\n",
    "    return np.sin(5. * x) + np.cos(10. * x) + (2.* (x-0.4)**2) * np.cos(100. * x)\n",
    " \n",
    "x_data = np.random.rand(20).reshape(-1,1) \n",
    "y_data = f1(x_data[:,0]) + (np.random.rand(len(x_data))-0.5) * 0.5\n",
    "\n",
    "plt.figure(figsize = (15,5))\n",
    "plt.xticks([0.,0.5,1.0])\n",
    "plt.yticks([-2,-1,0.,1])\n",
    "plt.xticks(fontsize=20)\n",
    "plt.yticks(fontsize=20)\n",
    "plt.plot(x_pred1D,f1(x_pred1D), color = 'orange', linewidth = 4)\n",
    "plt.scatter(x_data[:,0],y_data, color = 'black')"
   ]
  },
  {
   "cell_type": "markdown",
   "id": "b87513c2",
   "metadata": {},
   "source": [
    "## Customizing a Gaussian Process"
   ]
  },
  {
   "cell_type": "code",
   "execution_count": null,
   "id": "b4c670e0",
   "metadata": {},
   "outputs": [],
   "source": [
    "from fvgp.gp_kernels import *\n",
    "def my_noise(x,hps):\n",
    "    #This is a simple noise function but can be arbitrarily complex using many hyperparameters.\n",
    "    #The noise function always has to return a matrix, because the noise can have covariances.\n",
    "    return np.diag(np.zeros((len(x))) + hps[2])\n",
    "\n",
    "#stationary\n",
    "def skernel(x1,x2,hps):\n",
    "    #The kernel follows the mathematical definition of a kernel. This\n",
    "    #means there is no limit to the variety of kernels you can define.\n",
    "    d = get_distance_matrix(x1,x2)\n",
    "    return hps[0] * matern_kernel_diff1(d,hps[1])\n",
    "\n",
    "\n",
    "def meanf(x, hps):\n",
    "    #This ios a simple mean function but it can be arbitrarily complex using many hyperparameters.\n",
    "    return np.sin(hps[3] * x[:,0])\n",
    "#it is a good idea to plot the prior mean function to make sure we did not mess up\n",
    "plt.figure(figsize = (15,5))\n",
    "plt.plot(x_pred1D,meanf(x_pred1D, np.array([1.,1.,5.0,2.])), color = 'orange', label = 'task1')"
   ]
  },
  {
   "cell_type": "markdown",
   "id": "ee8e29d4",
   "metadata": {},
   "source": [
    "## Initialization and different training options"
   ]
  },
  {
   "cell_type": "code",
   "execution_count": null,
   "id": "039bcd99",
   "metadata": {
    "scrolled": true
   },
   "outputs": [],
   "source": [
    "\n",
    "\n",
    "my_gp1 = GP(x_data,y_data,\n",
    "            init_hyperparameters = np.ones((4))/10.,  # we need enough of those for kernel, noise and prior mean functions\n",
    "            noise_variances=np.ones(y_data.shape) * 0.01, #provding noise variances and a noise function will raise a warning \n",
    "            compute_device='cpu', \n",
    "            gp_kernel_function=skernel, \n",
    "            gp_kernel_function_grad=None, \n",
    "            gp_mean_function=meanf, \n",
    "            gp_mean_function_grad=None,\n",
    "            #gp_noise_function=my_noise,\n",
    "            gp2Scale = False,\n",
    "            calc_inv=False, \n",
    "            ram_economy=False, \n",
    "            args=None,\n",
    "            )\n",
    "\n",
    "\n",
    "hps_bounds = np.array([[0.01,10.], #signal variance for the kernel\n",
    "                       [0.01,10.], #length scale for the kernel\n",
    "                       [0.001,0.1],  #noise\n",
    "                       [0.01,1.]  #mean\n",
    "                      ])\n",
    "my_gp1.update_gp_data(x_data, y_data, noise_variances_new=np.ones(y_data.shape) * 0.01)\n",
    "print(\"Standard Training\")\n",
    "my_gp1.train(hyperparameter_bounds=hps_bounds)\n",
    "print(\"Global Training\")\n",
    "my_gp1.train(hyperparameter_bounds=hps_bounds, method='global')\n",
    "print(\"hps: \", my_gp1.get_hyperparameters())\n",
    "print(\"Local Training\")\n",
    "my_gp1.train(hyperparameter_bounds=hps_bounds, method='local')\n",
    "print(my_gp1.get_hyperparameters())\n",
    "print(\"MCMC Training\")\n",
    "my_gp1.train(hyperparameter_bounds=hps_bounds, method='mcmc', max_iter=1000)\n",
    "print(\"HGDL Training\")\n",
    "print(my_gp1.get_hyperparameters())\n",
    "my_gp1.train(hyperparameter_bounds=hps_bounds, method='hgdl', max_iter=10)\n"
   ]
  },
  {
   "cell_type": "markdown",
   "id": "cf4cf04e",
   "metadata": {},
   "source": [
    "### More advanced: Asynchronous training\n",
    "Train asynchronously on a remote server or locally. \n",
    "You can also start a bunch of different trainings on different computers.\n",
    "This training will continue without any signs of life until you call 'my_gp1.stop_training(opt_obj)'"
   ]
  },
  {
   "cell_type": "code",
   "execution_count": null,
   "id": "01c75334",
   "metadata": {},
   "outputs": [],
   "source": [
    "opt_obj = my_gp1.train_async(hyperparameter_bounds=hps_bounds)"
   ]
  },
  {
   "cell_type": "code",
   "execution_count": null,
   "id": "f45e1cd9",
   "metadata": {},
   "outputs": [],
   "source": [
    "#the result won't change much (or at all) since this is such a simple optimization\n",
    "for i in range(10):\n",
    "    time.sleep(2)\n",
    "    my_gp1.update_hyperparameters(opt_obj)\n",
    "    print(my_gp1.get_hyperparameters())\n",
    "    print(\"\")"
   ]
  },
  {
   "cell_type": "code",
   "execution_count": null,
   "id": "4c2d0b2b",
   "metadata": {},
   "outputs": [],
   "source": [
    "my_gp1.stop_training(opt_obj)"
   ]
  },
  {
   "cell_type": "markdown",
   "id": "e344a123",
   "metadata": {},
   "source": [
    "## The Result"
   ]
  },
  {
   "cell_type": "code",
   "execution_count": null,
   "id": "af1c3627",
   "metadata": {},
   "outputs": [],
   "source": [
    "#let's make a prediction\n",
    "x_pred = np.linspace(0,1,1000)\n",
    "\n",
    "\n",
    "mean1 = my_gp1.posterior_mean(x_pred.reshape(-1,1))[\"f(x)\"]\n",
    "var1 =  my_gp1.posterior_covariance(x_pred.reshape(-1,1), variance_only=False, add_noise=False)[\"v(x)\"]\n",
    "var1 =  my_gp1.posterior_covariance(x_pred.reshape(-1,1), variance_only=True, add_noise=False)[\"v(x)\"]\n",
    "\n",
    "mean1 = my_gp1.posterior_mean(x_pred.reshape(-1,1))[\"f(x)\"]\n",
    "var1 =  my_gp1.posterior_covariance(x_pred.reshape(-1,1), variance_only=False, add_noise=True)[\"v(x)\"]\n",
    "plt.figure(figsize = (16,10))\n",
    "plt.plot(x_pred,mean1, label = \"posterior mean\", linewidth = 4)\n",
    "plt.plot(x_pred1D,f1(x_pred1D), label = \"latent function\", linewidth = 4)\n",
    "plt.fill_between(x_pred, mean1 - 3. * np.sqrt(var1), mean1 + 3. * np.sqrt(var1), alpha = 0.5, color = \"grey\", label = \"var\")\n",
    "plt.scatter(x_data,y_data, color = 'black')\n",
    "\n",
    "\n",
    "##looking at some validation metrics\n",
    "print(my_gp1.rmse(x_pred1D,f1(x_pred1D)))\n",
    "print(my_gp1.crps(x_pred1D,f1(x_pred1D)))"
   ]
  },
  {
   "cell_type": "markdown",
   "id": "0fc7882c",
   "metadata": {},
   "source": [
    "## Predicted Information Gain"
   ]
  },
  {
   "cell_type": "code",
   "execution_count": null,
   "id": "b60a79f5",
   "metadata": {
    "scrolled": true
   },
   "outputs": [],
   "source": [
    "relative_entropy =  my_gp1.gp_relative_information_entropy_set(x_pred.reshape(-1,1))[\"RIE\"]"
   ]
  },
  {
   "cell_type": "code",
   "execution_count": null,
   "id": "40b71514",
   "metadata": {},
   "outputs": [],
   "source": [
    "plt.figure(figsize = (16,10))\n",
    "plt.plot(x_pred,relative_entropy, label = \"relative_entropy\", linewidth = 4)\n",
    "plt.scatter(x_data,y_data, color = 'black')\n",
    "plt.legend()"
   ]
  },
  {
   "cell_type": "code",
   "execution_count": null,
   "id": "6620202a",
   "metadata": {},
   "outputs": [],
   "source": [
    "#We can ask mutual information and total correlation there is given some test data\n",
    "x_test = np.array([[0.45],[0.45]])\n",
    "print(\"MI: \",my_gp1.gp_mutual_information(x_test))\n",
    "print(\"TC: \",my_gp1.gp_total_correlation(x_test))\n",
    "my_gp1.gp_entropy(x_test)\n",
    "my_gp1.gp_entropy_grad(x_test, 0)\n",
    "my_gp1.gp_kl_div(x_test, np.ones((len(x_test))), np.identity((len(x_test))))\n",
    "my_gp1.gp_kl_div_grad(x_test, np.ones((len(x_test))), np.identity((len(x_test))), 0)\n",
    "my_gp1.gp_relative_information_entropy(x_test)\n",
    "my_gp1.gp_relative_information_entropy_set(x_test)\n",
    "my_gp1.posterior_covariance(x_test)\n",
    "my_gp1.posterior_covariance_grad(x_test)\n",
    "my_gp1.posterior_mean(x_test)\n",
    "my_gp1.posterior_mean_grad(x_test)\n",
    "my_gp1.posterior_probability(x_test, np.ones((len(x_test))), np.identity((len(x_test))))\n",
    "my_gp1.posterior_probability_grad(x_test, np.ones((len(x_test))), np.identity((len(x_test))),0)\n",
    "\n"
   ]
  },
  {
   "cell_type": "code",
   "execution_count": null,
   "id": "61b1e730",
   "metadata": {},
   "outputs": [],
   "source": []
  }
 ],
 "metadata": {
  "kernelspec": {
   "display_name": "Python 3 (ipykernel)",
   "language": "python",
   "name": "python3"
  },
  "language_info": {
   "codemirror_mode": {
    "name": "ipython",
    "version": 3
   },
   "file_extension": ".py",
   "mimetype": "text/x-python",
   "name": "python",
   "nbconvert_exporter": "python",
   "pygments_lexer": "ipython3",
   "version": "3.10.12"
  }
 },
 "nbformat": 4,
 "nbformat_minor": 5
}
