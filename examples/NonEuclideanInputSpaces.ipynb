{
 "cells": [
  {
   "cell_type": "markdown",
   "id": "045ba1ec",
   "metadata": {},
   "source": [
    "# GPs on Non-Euclidean Input Spaces\n",
    "GPs on non-Euclidean input spaces have become more and more relevant in recent years. fvgp can be used for that purpose as long as a cvalid kernel is provided. Of course, if mean functions and noise functions are also provided, they have to operate on these non-Euclidean spaces. \n",
    "\n",
    "In this example, we run a small GP on words. It's a proof of concept, the results are not super relevant"
   ]
  },
  {
   "cell_type": "code",
   "execution_count": 1,
   "id": "9b06af97",
   "metadata": {},
   "outputs": [],
   "source": [
    "#install the newest version of fvgp\n",
    "#!pip install fvgp~=4.7.2"
   ]
  },
  {
   "cell_type": "code",
   "execution_count": 2,
   "id": "712eab18",
   "metadata": {},
   "outputs": [],
   "source": [
    "import numpy as np\n",
    "import matplotlib.pyplot as plt\n",
    "from fvgp import GP\n",
    "from dask.distributed import Client\n",
    "%load_ext autoreload\n",
    "%autoreload 2"
   ]
  },
  {
   "cell_type": "markdown",
   "id": "d2a756d2",
   "metadata": {},
   "source": [
    "## Single Task"
   ]
  },
  {
   "cell_type": "code",
   "execution_count": 3,
   "id": "59dac036",
   "metadata": {},
   "outputs": [
    {
     "name": "stdout",
     "output_type": "stream",
     "text": [
      "hyperparameters:  [67.57968103 37.56308367]\n",
      "prediction :  [3.36628537]\n",
      "uncertainty:  [0.63285188]\n"
     ]
    },
    {
     "name": "stderr",
     "output_type": "stream",
     "text": [
      "/home/marcus/Coding/fvGP/fvgp/gp.py:299: UserWarning: No noise function or measurement noise provided. Noise variances will be set to (0.01 * mean(|y_data|))^2.\n",
      "  self.likelihood = GPlikelihood(self.data,\n"
     ]
    }
   ],
   "source": [
    "#making the x_data a set will allow us to put any objects or structures into it.\n",
    "x_data = ['hello','world','this','is','fvgp']\n",
    "y_data = np.array([2.,1.9,1.8,3.0,5.])\n",
    "\n",
    "\n",
    "from fvgp.kernels import *\n",
    "def string_distance(string1, string2):\n",
    "    difference = abs(len(string1) - len(string2))\n",
    "    common_length = min(len(string1),len(string2))\n",
    "    string1 = string1[0:common_length]\n",
    "    string2 = string2[0:common_length]\n",
    "    \n",
    "    for i in range(len(string1)):\n",
    "        if string1[i] != string2[i]:\n",
    "            difference += 1.\n",
    "\n",
    "    return difference\n",
    "\n",
    "\n",
    "def kernel(x1,x2,hps):\n",
    "    d = np.zeros((len(x1),len(x2)))\n",
    "    count1 = 0\n",
    "    for string1 in x1:\n",
    "        count2 = 0\n",
    "        for string2 in x2:\n",
    "            d[count1,count2] = string_distance(string1,string2)\n",
    "            count2 += 1\n",
    "        count1 += 1\n",
    "    return hps[0] * matern_kernel_diff1(d,hps[1])\n",
    "    \n",
    "\n",
    "\n",
    "\n",
    "my_gp = GP(x_data,y_data,init_hyperparameters=np.ones((2)), kernel_function=kernel)\n",
    "\n",
    "bounds = np.array([[0.001,100.],[0.001,100]])\n",
    "my_gp.train(hyperparameter_bounds=bounds)\n",
    "\n",
    "print(\"hyperparameters: \", my_gp.hyperparameters)\n",
    "print(\"prediction : \",my_gp.posterior_mean(['full'])[\"m(x)\"])\n",
    "print(\"uncertainty: \",np.sqrt(my_gp.posterior_covariance(['full'])[\"v(x)\"]))"
   ]
  },
  {
   "cell_type": "markdown",
   "id": "08c69a04",
   "metadata": {},
   "source": [
    "## Multi-Task Capability on Non-Euclidean Spaces"
   ]
  },
  {
   "cell_type": "code",
   "execution_count": 4,
   "id": "51260c9c",
   "metadata": {},
   "outputs": [
    {
     "name": "stdout",
     "output_type": "stream",
     "text": [
      "The autoreload extension is already loaded. To reload it, use:\n",
      "  %reload_ext autoreload\n"
     ]
    }
   ],
   "source": [
    "import numpy as np\n",
    "import matplotlib.pyplot as plt\n",
    "from fvgp import GP\n",
    "import plotly.graph_objects as go\n",
    "from itertools import product\n",
    "\n",
    "%load_ext autoreload\n",
    "%autoreload 2"
   ]
  },
  {
   "cell_type": "code",
   "execution_count": 5,
   "id": "5585a884",
   "metadata": {},
   "outputs": [
    {
     "name": "stdout",
     "output_type": "stream",
     "text": [
      "4\n",
      "(4, 5)\n"
     ]
    }
   ],
   "source": [
    "x_data = ['frf','ferfe','ferf','febhn']\n",
    "y_data = np.zeros((len(x_data),5))\n",
    "\n",
    "\n",
    "y_data[:,0] = np.random.rand(len(x_data))\n",
    "y_data[:,1] = np.random.rand(len(x_data))\n",
    "y_data[:,2] = np.random.rand(len(x_data))\n",
    "y_data[:,3] = np.random.rand(len(x_data))\n",
    "y_data[:,4] = np.random.rand(len(x_data))\n",
    "\n",
    "#it is good practice to check the format of the data\n",
    "print(len(x_data))\n",
    "print(y_data.shape)"
   ]
  },
  {
   "cell_type": "code",
   "execution_count": 6,
   "id": "08ba1408",
   "metadata": {},
   "outputs": [],
   "source": [
    "def string_distance(string1, string2):\n",
    "    difference = abs(len(string1) - len(string2))\n",
    "    common_length = min(len(string1),len(string2))\n",
    "    string1 = string1[0:common_length]\n",
    "    string2 = string2[0:common_length]\n",
    "    \n",
    "    for i in range(len(string1)):\n",
    "        if string1[i] != string2[i]:\n",
    "            difference += 1.\n",
    "\n",
    "    return difference\n",
    "\n",
    "\n",
    "from fvgp.kernels import matern_kernel_diff1\n",
    "def kernel(x1,x2,hps):\n",
    "    d = np.zeros((len(x1),len(x2)))\n",
    "    count1 = 0\n",
    "    for entry in x1:\n",
    "        string1 = entry[0]\n",
    "        count2 = 0\n",
    "        for entry2 in x2:\n",
    "            string2 = entry2[0]\n",
    "            d[count1,count2] = string_distance(string1,string2)\n",
    "            count2 += 1\n",
    "        count1 += 1\n",
    "    return hps[0] * matern_kernel_diff1(d,hps[1])\n",
    "    \n",
    "\n",
    "bounds = np.array([[0.001,100.],[0.001,100]])"
   ]
  },
  {
   "cell_type": "code",
   "execution_count": 7,
   "id": "040fec2c",
   "metadata": {},
   "outputs": [
    {
     "name": "stdout",
     "output_type": "stream",
     "text": [
      "Global Training in progress\n"
     ]
    },
    {
     "data": {
      "text/plain": [
       "array([40.30481518, 56.91574387])"
      ]
     },
     "execution_count": 7,
     "metadata": {},
     "output_type": "execute_result"
    }
   ],
   "source": [
    "from fvgp import fvGP\n",
    "my_gp2 = fvGP(x_data,y_data,init_hyperparameters=np.ones((2)),\n",
    "              kernel_function=kernel\n",
    "             )\n",
    "print(\"Global Training in progress\")\n",
    "my_gp2.train(hyperparameter_bounds=bounds, max_iter = 20)"
   ]
  },
  {
   "cell_type": "code",
   "execution_count": 8,
   "id": "5526f6b6",
   "metadata": {},
   "outputs": [
    {
     "data": {
      "text/plain": [
       "{'x': ['dwed', 'dwe'],\n",
       " 'm(x)': array([[2.92245968, 2.92245968, 2.92245968, 2.92245968, 2.92245968],\n",
       "        [1.77974417, 1.77974417, 1.77974417, 1.77974417, 1.77974417]]),\n",
       " 'm(x)_flat': array([2.92245968, 1.77974417, 2.92245968, 1.77974417, 2.92245968,\n",
       "        1.77974417, 2.92245968, 1.77974417, 2.92245968, 1.77974417]),\n",
       " 'x_pred': [['dwed', np.int64(0)],\n",
       "  ['dwe', np.int64(0)],\n",
       "  ['dwed', np.int64(1)],\n",
       "  ['dwe', np.int64(1)],\n",
       "  ['dwed', np.int64(2)],\n",
       "  ['dwe', np.int64(2)],\n",
       "  ['dwed', np.int64(3)],\n",
       "  ['dwe', np.int64(3)],\n",
       "  ['dwed', np.int64(4)],\n",
       "  ['dwe', np.int64(4)]]}"
      ]
     },
     "execution_count": 8,
     "metadata": {},
     "output_type": "execute_result"
    }
   ],
   "source": [
    "x_pred = [\"dwed\",\"dwe\"]\n",
    "my_gp2.posterior_mean(x_pred, x_out = np.array([0,1,2,3]))\n",
    "my_gp2.posterior_mean(x_pred)"
   ]
  },
  {
   "cell_type": "code",
   "execution_count": null,
   "id": "e97ddf72",
   "metadata": {},
   "outputs": [],
   "source": []
  },
  {
   "cell_type": "code",
   "execution_count": null,
   "id": "c9aafc05-6510-4741-b17a-3a584a4cc84a",
   "metadata": {},
   "outputs": [],
   "source": []
  },
  {
   "cell_type": "code",
   "execution_count": null,
   "id": "a77bd93a-7b35-40db-81cd-a367404f6693",
   "metadata": {},
   "outputs": [],
   "source": []
  }
 ],
 "metadata": {
  "kernelspec": {
   "display_name": "fvgp_env",
   "language": "python",
   "name": "fvgp_env"
  },
  "language_info": {
   "codemirror_mode": {
    "name": "ipython",
    "version": 3
   },
   "file_extension": ".py",
   "mimetype": "text/x-python",
   "name": "python",
   "nbconvert_exporter": "python",
   "pygments_lexer": "ipython3",
   "version": "3.11.14"
  }
 },
 "nbformat": 4,
 "nbformat_minor": 5
}
